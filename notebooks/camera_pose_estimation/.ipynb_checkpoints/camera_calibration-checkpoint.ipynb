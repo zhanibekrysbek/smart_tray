{
 "cells": [
  {
   "cell_type": "code",
   "execution_count": 1,
   "metadata": {},
   "outputs": [],
   "source": [
    "import numpy as np\n",
    "import sys\n",
    "# sys.path.pop(2)\n",
    "sys.path.insert(1,'/home/zhanibek/.local/lib/python2.7/site-packages/cv2')\n",
    "sys.path.insert(1,'/home/zhanibek/catkin_ws/src/smart_tray/scripts/')\n",
    "from phri.utils import *\n",
    "from phri.calibration import Calibrate_Camera\n",
    "import cv2 \n",
    "from cv2 import aruco\n",
    "import matplotlib.pyplot as plt\n",
    "import matplotlib as mpl\n",
    "import os\n",
    "from tqdm import tqdm_notebook\n",
    "import pickle\n",
    "import random\n",
    "%load_ext autoreload\n",
    "%autoreload 2"
   ]
  },
  {
   "cell_type": "code",
   "execution_count": 2,
   "metadata": {},
   "outputs": [
    {
     "data": {
      "text/plain": [
       "'3.3.1-dev'"
      ]
     },
     "execution_count": 2,
     "metadata": {},
     "output_type": "execute_result"
    }
   ],
   "source": [
    "cv2.__version__"
   ]
  },
  {
   "cell_type": "markdown",
   "metadata": {},
   "source": [
    "### Constants"
   ]
  },
  {
   "cell_type": "code",
   "execution_count": 3,
   "metadata": {},
   "outputs": [],
   "source": [
    "base_dir = '../data/pose_estimation'"
   ]
  },
  {
   "cell_type": "code",
   "execution_count": 4,
   "metadata": {},
   "outputs": [],
   "source": [
    "im_partial = read_image(os.path.join(base_dir, 'charuco_pose_est', 'im0_partial_view.png'))\n",
    "im_full = read_image(os.path.join(base_dir, 'charuco_pose_est', 'im0_full_view.png'))"
   ]
  },
  {
   "cell_type": "markdown",
   "metadata": {},
   "source": [
    "### Charuco Board for Calibration"
   ]
  },
  {
   "cell_type": "code",
   "execution_count": 5,
   "metadata": {},
   "outputs": [
    {
     "data": {
      "image/png": "[encoded data removed]",
      "text/plain": [
       "<Figure size 360x504 with 1 Axes>"
      ]
     },
     "metadata": {
      "needs_background": "light"
     },
     "output_type": "display_data"
    }
   ],
   "source": [
    "cal_sqlen = 0.03677\n",
    "cal_mlen = 0.02959\n",
    "cal_aruco_dict = aruco.Dictionary_get(aruco.DICT_4X4_50)\n",
    "calib_board = aruco.CharucoBoard_create(5, 7, cal_sqlen, cal_mlen, cal_aruco_dict)\n",
    "calib_imboard = calib_board.draw((1000, 1400))\n",
    "\n",
    "# cv2.imwrite(os.path.join(base_dir, \"charuco_calibration.tiff\"), imboard)\n",
    "\n",
    "fig = plt.figure(figsize=(5,7))\n",
    "showMarker(calib_imboard)\n",
    "plt.show()\n"
   ]
  },
  {
   "cell_type": "markdown",
   "metadata": {},
   "source": [
    "### Charuco Board for Detection 1"
   ]
  },
  {
   "cell_type": "code",
   "execution_count": 6,
   "metadata": {},
   "outputs": [
    {
     "data": {
      "image/png": "[encoded data removed]",
      "text/plain": [
       "<Figure size 360x504 with 1 Axes>"
      ]
     },
     "metadata": {
      "needs_background": "light"
     },
     "output_type": "display_data"
    }
   ],
   "source": [
    "sqLen_1 = 0.0644\n",
    "mrklen_1 = 0.04865 \n",
    "aruco_dict = aruco.Dictionary_get(aruco.DICT_4X4_50)\n",
    "board1 = aruco.CharucoBoard_create(3, 4, sqLen_1, mrklen_1, aruco_dict)\n",
    "imboard1 = board1.draw((3000, 4000))\n",
    "\n",
    "# cv2.imwrite(os.path.join(base_dir, \"charuco_detection_1.tiff\"), imboard)\n",
    "\n",
    "fig = plt.figure(figsize=(5,7))\n",
    "showMarker(imboard1)\n",
    "plt.show()\n"
   ]
  },
  {
   "cell_type": "markdown",
   "metadata": {},
   "source": [
    "### Charuco Board for Detection 2"
   ]
  },
  {
   "cell_type": "code",
   "execution_count": 7,
   "metadata": {},
   "outputs": [
    {
     "data": {
      "image/png": "[encoded data removed]",
      "text/plain": [
       "<Figure size 360x504 with 1 Axes>"
      ]
     },
     "metadata": {
      "needs_background": "light"
     },
     "output_type": "display_data"
    }
   ],
   "source": [
    "sep2 = 0.02274\n",
    "mrklen2 = 0.11376 \n",
    "aruco_dict = aruco.Dictionary_get(aruco.DICT_4X4_50)\n",
    "board2 = aruco.GridBoard_create(1, 2, mrklen2, sep2, aruco_dict, 11)\n",
    "# board2.ids = np.array([[11],[15]])\n",
    "imboard2 = board2.draw((1000, 2000))\n",
    "\n",
    "# cv2.imwrite(os.path.join(base_dir, \"charuco_detection_2.tiff\"), imboard)\n",
    "\n",
    "fig = plt.figure(figsize=(5,7))\n",
    "showMarker(imboard2)\n",
    "plt.show()\n"
   ]
  },
  {
   "cell_type": "markdown",
   "metadata": {},
   "source": [
    "# Calibrate"
   ]
  },
  {
   "cell_type": "markdown",
   "metadata": {},
   "source": [
    "#### Read the data"
   ]
  },
  {
   "cell_type": "code",
   "execution_count": null,
   "metadata": {},
   "outputs": [],
   "source": [
    "# datadir = \"/home/zhanibek/catkin_ws/src/smart_tray/data/pose_estimation/calibration/logitech_t1/images/\"\n",
    "# datadir = \"/home/zhanibek/catkin_ws/src/smart_tray/data/pose_estimation/calibration/angetube/images/\"\n",
    "datadir = \"/home/zhanibek/catkin_ws/src/smart_tray/data/pose_estimation/calibration/logitech_t2/images/\""
   ]
  },
  {
   "cell_type": "code",
   "execution_count": null,
   "metadata": {
    "scrolled": true
   },
   "outputs": [],
   "source": [
    "images = np.array([datadir + f for f in os.listdir(datadir) if f.endswith(\".png\") ])\n",
    "order = np.argsort([int(p.split('/')[-1].split(\"_\")[1].split(\"_\")[0]) for p in images])\n",
    "images = images[order]\n",
    "len(images)"
   ]
  },
  {
   "cell_type": "code",
   "execution_count": null,
   "metadata": {
    "scrolled": true
   },
   "outputs": [],
   "source": [
    "images"
   ]
  },
  {
   "cell_type": "code",
   "execution_count": null,
   "metadata": {},
   "outputs": [],
   "source": [
    "# Show an example of one image\n",
    "im = read_image(images[10])\n",
    "plt.figure()\n",
    "plt.imshow(im)\n",
    "#ax.axis('off')\n",
    "plt.show()"
   ]
  },
  {
   "cell_type": "code",
   "execution_count": null,
   "metadata": {},
   "outputs": [],
   "source": [
    "# random.shuffle(images)"
   ]
  },
  {
   "cell_type": "markdown",
   "metadata": {},
   "source": [
    "## Calibrate"
   ]
  },
  {
   "cell_type": "code",
   "execution_count": null,
   "metadata": {
    "scrolled": false
   },
   "outputs": [],
   "source": [
    "calib = Calibrate_Camera(calib_board)\n",
    "%time cam_cal_data = calib.calibrate(images)"
   ]
  },
  {
   "cell_type": "code",
   "execution_count": null,
   "metadata": {},
   "outputs": [],
   "source": [
    "images[60]"
   ]
  },
  {
   "cell_type": "markdown",
   "metadata": {},
   "source": [
    "#### Save the results"
   ]
  },
  {
   "cell_type": "code",
   "execution_count": null,
   "metadata": {
    "scrolled": true
   },
   "outputs": [],
   "source": [
    "# Save the results\n",
    "#cname = os.path.join(base_dir, 'calibration/logitech_t1/calibration_matrix_logitech_1.pkl')\n",
    "# cname = os.path.join(base_dir, 'calibration/angetube/calibration_matrix_angetube.pkl')\n",
    "cname = os.path.join(base_dir, 'calibration/logitech_t1/calibration_matrix_logitech_t2.pkl')\n",
    "\n",
    "with open(cname, 'wb') as f:\n",
    "    pickle.dump(cam_cal_data, f)\n",
    "    \n",
    "    "
   ]
  },
  {
   "cell_type": "code",
   "execution_count": null,
   "metadata": {},
   "outputs": [],
   "source": [
    "cname"
   ]
  },
  {
   "cell_type": "markdown",
   "metadata": {},
   "source": [
    "#### Visualize Calibration"
   ]
  },
  {
   "cell_type": "code",
   "execution_count": null,
   "metadata": {
    "scrolled": true
   },
   "outputs": [],
   "source": [
    "inds = np.random.randint(61, size=10)\n",
    "\n",
    "plt.figure(figsize=(20,50))\n",
    "\n",
    "for i, ind in enumerate(inds):\n",
    "    img = read_image(images[ind])\n",
    "    a,b,c = aruco.detectMarkers(img, calib_board.dictionary)\n",
    "    img = aruco.drawAxis(img, cam_cal_data['cameraMatrix'], cam_cal_data['distCoeffs'],\n",
    "              cam_cal_data['rotationVector'][ind], cam_cal_data['translationVector'][ind], 5*cal_mlen)\n",
    "    \n",
    "    plt.subplot(5,2,i+1)\n",
    "    plt.imshow(img)\n",
    "plt.show()"
   ]
  },
  {
   "cell_type": "code",
   "execution_count": null,
   "metadata": {
    "scrolled": true
   },
   "outputs": [],
   "source": [
    "cam_cal_data"
   ]
  },
  {
   "cell_type": "code",
   "execution_count": null,
   "metadata": {},
   "outputs": [],
   "source": []
  },
  {
   "cell_type": "code",
   "execution_count": null,
   "metadata": {},
   "outputs": [],
   "source": [
    "pickle.load(open(os.path.join(base_dir, 'calibration/angetube/calibration_matrix_angetube.pkl')))"
   ]
  },
  {
   "cell_type": "code",
   "execution_count": null,
   "metadata": {},
   "outputs": [],
   "source": []
  }
 ],
 "metadata": {
  "kernelspec": {
   "display_name": "Python 2",
   "language": "python",
   "name": "python2"
  },
  "language_info": {
   "codemirror_mode": {
    "name": "ipython",
    "version": 2
   },
   "file_extension": ".py",
   "mimetype": "text/x-python",
   "name": "python",
   "nbconvert_exporter": "python",
   "pygments_lexer": "ipython2",
   "version": "2.7.12"
  }
 },
 "nbformat": 4,
 "nbformat_minor": 4
}
